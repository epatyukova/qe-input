{
 "cells": [
  {
   "cell_type": "code",
   "execution_count": 1,
   "id": "d9857d1a",
   "metadata": {},
   "outputs": [],
   "source": [
    "import numpy as np \n",
    "import pandas as pd\n",
    "\n",
    "from pymatgen.core.structure import Structure"
   ]
  },
  {
   "cell_type": "code",
   "execution_count": 45,
   "id": "7f6955bb",
   "metadata": {},
   "outputs": [],
   "source": [
    "CIF=\"\"\"# generated using pymatgen\n",
    "data_CoF2\n",
    "_symmetry_space_group_name_H-M   'P 1'\n",
    "_cell_length_a   4.64351941\n",
    "_cell_length_b   4.64351941\n",
    "_cell_length_c   3.19916469\n",
    "_cell_angle_alpha   90.00000000\n",
    "_cell_angle_beta   90.00000000\n",
    "_cell_angle_gamma   90.00000000\n",
    "_symmetry_Int_Tables_number   1\n",
    "_chemical_formula_structural   CoF2\n",
    "_chemical_formula_sum   'Co2 F4'\n",
    "_cell_volume   68.98126085\n",
    "_cell_formula_units_Z   2\n",
    "loop_\n",
    " _symmetry_equiv_pos_site_id\n",
    " _symmetry_equiv_pos_as_xyz\n",
    "  1  'x, y, z'\n",
    "loop_\n",
    " _atom_type_symbol\n",
    " _atom_type_oxidation_number\n",
    "  Co2+  2.0\n",
    "  F-  -1.0\n",
    "loop_\n",
    " _atom_site_type_symbol\n",
    " _atom_site_label\n",
    " _atom_site_symmetry_multiplicity\n",
    " _atom_site_fract_x\n",
    " _atom_site_fract_y\n",
    " _atom_site_fract_z\n",
    " _atom_site_occupancy\n",
    "  Co2+  Co0  1  0.00000000  0.00000000  0.00000000  1\n",
    "  Co2+  Co1  1  0.50000000  0.50000000  0.50000000  1\n",
    "  F-  F2  1  0.30433674  0.30433674  0.00000000  1\n",
    "  F-  F3  1  0.69566326  0.69566326  0.00000000  1\n",
    "  F-  F4  1  0.80433674  0.19566326  0.50000000  1\n",
    "  F-  F5  1  0.19566326  0.80433674  0.50000000  1\"\"\""
   ]
  },
  {
   "cell_type": "code",
   "execution_count": 46,
   "id": "df07454d",
   "metadata": {},
   "outputs": [],
   "source": [
    "with open('test.cif','w') as f:\n",
    "    f.write(CIF)"
   ]
  },
  {
   "cell_type": "code",
   "execution_count": 47,
   "id": "8c878587",
   "metadata": {},
   "outputs": [],
   "source": [
    "structure = Structure.from_file('test.cif')"
   ]
  },
  {
   "cell_type": "code",
   "execution_count": 48,
   "id": "92692cbf",
   "metadata": {},
   "outputs": [],
   "source": [
    "structure = Structure.from_file('test.cif')"
   ]
  },
  {
   "cell_type": "code",
   "execution_count": 52,
   "id": "be221076",
   "metadata": {},
   "outputs": [
    {
     "data": {
      "text/plain": [
       "Lattice\n",
       "    abc : 4.64351941 4.64351941 3.19916469\n",
       " angles : 90.0 90.0 90.0\n",
       " volume : 68.98126085349838\n",
       "      A : 4.64351941 0.0 2.8433355911175527e-16\n",
       "      B : -2.8433355911175527e-16 4.64351941 2.8433355911175527e-16\n",
       "      C : 0.0 0.0 3.19916469\n",
       "    pbc : True True True"
      ]
     },
     "execution_count": 52,
     "metadata": {},
     "output_type": "execute_result"
    }
   ],
   "source": [
    "structure.lattice"
   ]
  },
  {
   "cell_type": "code",
   "execution_count": 53,
   "id": "b8f1d5d4",
   "metadata": {},
   "outputs": [],
   "source": [
    "from streamlit.testing.v1 import AppTest\n",
    "\n",
    "import sys\n",
    "import os\n",
    "import shutil\n",
    "sys.path.append('/Users/elena.patyukova/Documents/github/qe-input/src/qe_input')"
   ]
  },
  {
   "cell_type": "code",
   "execution_count": 54,
   "id": "bf460305",
   "metadata": {},
   "outputs": [
    {
     "name": "stderr",
     "output_type": "stream",
     "text": [
      "2025-01-07 16:25:36.871 Thread 'MainThread': missing ScriptRunContext! This warning can be ignored when running in bare mode.\n"
     ]
    }
   ],
   "source": [
    "at = AppTest(script_path=\"/Users/elena.patyukova/Documents/github/qe-input/src/qe_input/QE_input_generation_app.py\", default_timeout=10)"
   ]
  },
  {
   "cell_type": "code",
   "execution_count": 55,
   "id": "ce8ad368",
   "metadata": {},
   "outputs": [],
   "source": [
    "element_tree=at.run()"
   ]
  },
  {
   "cell_type": "code",
   "execution_count": 112,
   "id": "56e81283",
   "metadata": {},
   "outputs": [
    {
     "data": {
      "text/plain": [
       "TextInput(key='feedback_api_key', _value=InitialValue(), label='OpenAI API Key', autocomplete='new-password')"
      ]
     },
     "execution_count": 112,
     "metadata": {},
     "output_type": "execute_result"
    }
   ],
   "source": [
    "at.get('text_input')[0]"
   ]
  },
  {
   "cell_type": "code",
   "execution_count": 84,
   "id": "762cd9f9",
   "metadata": {},
   "outputs": [
    {
     "data": {
      "text/plain": [
       "[Selectbox(_value=InitialValue(), label='XC-functional', options=['PBE', 'PBEsol']),\n",
       " Selectbox(_value=InitialValue(), label='pseudopotential flavour', options=['efficiency', 'precision']),\n",
       " Selectbox(_value=InitialValue(), label='assistant LLM', options=['gpt-4o', 'gpt-4o-mini', 'gpt-3.5-turbo'])]"
      ]
     },
     "execution_count": 84,
     "metadata": {},
     "output_type": "execute_result"
    }
   ],
   "source": [
    "element_tree.get('selectbox').options"
   ]
  },
  {
   "cell_type": "code",
   "execution_count": 88,
   "id": "3d3f3e4d",
   "metadata": {},
   "outputs": [
    {
     "data": {
      "text/plain": [
       "[ChatInput(placeholder='Do you have any questions?')]"
      ]
     },
     "execution_count": 88,
     "metadata": {},
     "output_type": "execute_result"
    }
   ],
   "source": [
    "element_tree.get('chat_input')"
   ]
  },
  {
   "cell_type": "code",
   "execution_count": 90,
   "id": "d61804be",
   "metadata": {},
   "outputs": [
    {
     "data": {
      "text/plain": [
       "[]"
      ]
     },
     "execution_count": 90,
     "metadata": {},
     "output_type": "execute_result"
    }
   ],
   "source": [
    "element_tree.get('chat_message')"
   ]
  },
  {
   "cell_type": "code",
   "execution_count": 92,
   "id": "1cb2e885",
   "metadata": {},
   "outputs": [
    {
     "data": {
      "text/plain": [
       "[]"
      ]
     },
     "execution_count": 92,
     "metadata": {},
     "output_type": "execute_result"
    }
   ],
   "source": [
    "element_tree.get('session_state')"
   ]
  },
  {
   "cell_type": "code",
   "execution_count": 113,
   "id": "723c56c7",
   "metadata": {},
   "outputs": [
    {
     "data": {
      "text/plain": [
       "5"
      ]
     },
     "execution_count": 113,
     "metadata": {},
     "output_type": "execute_result"
    }
   ],
   "source": [
    "len(at.main)"
   ]
  },
  {
   "cell_type": "code",
   "execution_count": 109,
   "id": "0958d375",
   "metadata": {},
   "outputs": [
    {
     "name": "stdout",
     "output_type": "stream",
     "text": [
      "Title(tag='h1') 💬 Chatbot for QE input <class 'streamlit.testing.v1.element_tree.Title'>\n",
      "    \n",
      "Markdown() To generate input file, provide structure CIF file.The Chatbot will generate an input file for QE single point scf calculations and answer your questions. <class 'streamlit.testing.v1.element_tree.Markdown'>\n",
      "    \n",
      "UnknownElement() None <class 'streamlit.testing.v1.element_tree.UnknownElement'>\n",
      "    \n",
      "Info() Please add your structure file to continue <class 'streamlit.testing.v1.element_tree.Info'>\n",
      "    \n",
      "Markdown() **You can ask agent to correct any input parameters, ask about their meaning, or generate aiida code to run calculations!** <class 'streamlit.testing.v1.element_tree.Markdown'>\n",
      "    \n"
     ]
    }
   ],
   "source": [
    "for i in range(len(element_tree.main)):\n",
    "    x=element_tree.main[i]\n",
    "    print(x, x.value, type(x))\n",
    "    print(\"    \")"
   ]
  },
  {
   "cell_type": "code",
   "execution_count": 122,
   "id": "3fc2a431",
   "metadata": {},
   "outputs": [
    {
     "data": {
      "text/plain": [
       "[TextInput(key='feedback_api_key', _value=InitialValue(), label='OpenAI API Key', autocomplete='new-password')]"
      ]
     },
     "execution_count": 122,
     "metadata": {},
     "output_type": "execute_result"
    }
   ],
   "source": [
    "at.sidebar.get('selectbox')"
   ]
  },
  {
   "cell_type": "code",
   "execution_count": 119,
   "id": "217c77a8",
   "metadata": {},
   "outputs": [],
   "source": [
    "labels=[x.label for x in at.sidebar.get('selectbox')]"
   ]
  },
  {
   "cell_type": "code",
   "execution_count": 120,
   "id": "6db255bc",
   "metadata": {},
   "outputs": [
    {
     "data": {
      "text/plain": [
       "['XC-functional', 'pseudopotential flavour', 'assistant LLM']"
      ]
     },
     "execution_count": 120,
     "metadata": {},
     "output_type": "execute_result"
    }
   ],
   "source": [
    "labels"
   ]
  },
  {
   "cell_type": "code",
   "execution_count": 111,
   "id": "8d3e5522",
   "metadata": {},
   "outputs": [
    {
     "name": "stdout",
     "output_type": "stream",
     "text": [
      "TextInput(key='feedback_api_key', _value=InitialValue(), label='OpenAI API Key', autocomplete='new-password') bl <class 'streamlit.testing.v1.element_tree.TextInput'>\n",
      "    \n",
      "Markdown() [Get an OpenAI API key](https://platform.openai.com/account/api-keys) <class 'streamlit.testing.v1.element_tree.Markdown'>\n",
      "    \n",
      "Selectbox(_value=InitialValue(), label='XC-functional', options=['PBE', 'PBEsol']) None <class 'streamlit.testing.v1.element_tree.Selectbox'>\n",
      "    \n",
      "Selectbox(_value=InitialValue(), label='pseudopotential flavour', options=['efficiency', 'precision']) None <class 'streamlit.testing.v1.element_tree.Selectbox'>\n",
      "    \n",
      "Selectbox(_value=InitialValue(), label='assistant LLM', options=['gpt-4o', 'gpt-4o-mini', 'gpt-3.5-turbo']) None <class 'streamlit.testing.v1.element_tree.Selectbox'>\n",
      "    \n"
     ]
    }
   ],
   "source": [
    "for i in range(len(element_tree.sidebar)):\n",
    "    x=element_tree.sidebar[i]\n",
    "    print(x, x.value, type(x))\n",
    "    print(\"    \")"
   ]
  },
  {
   "cell_type": "code",
   "execution_count": 74,
   "id": "d867d288",
   "metadata": {},
   "outputs": [
    {
     "data": {
      "text/plain": [
       "'OpenAI API Key'"
      ]
     },
     "execution_count": 74,
     "metadata": {},
     "output_type": "execute_result"
    }
   ],
   "source": [
    "element_tree.text_input[0].label"
   ]
  },
  {
   "cell_type": "code",
   "execution_count": 79,
   "id": "bd1dfe94",
   "metadata": {},
   "outputs": [
    {
     "data": {
      "text/plain": [
       "AppTest(\n",
       "    _script_path='/Users/elena.patyukova/Documents/github/qe-input/src/qe_input/QE_input_generation_app.py',\n",
       "    default_timeout=10,\n",
       "    session_state={$$ID-478288cf78edc9d94ea275667fd78faf-None: None, $$STREAMLIT_INTERNAL_KEY_SCRIPT_RUN_WITHOUT_ERRORS: True, $$ID-dc2d6e4b5456f82a724ae7018bf24f88-None: None, $$ID-301ebf2a0f9111c64583b7d20f720d95-None: None, functional: 'PBE', mode: 'efficiency', $$ID-105f78429e26781d6f9f0af5b48c3bed-None: None, messages: [], $$STREAMLIT_INTERNAL_KEY_TESTING: {'$$ID-dc2d6e4b5456f82a724ae7018bf24f88-None': <class 'str'>, '$$ID-478288cf78edc9d94ea275667fd78faf-None': <class 'str'>, '$$ID-105f78429e26781d6f9f0af5b48c3bed-None': <class 'str'>, '$$ID-301ebf2a0f9111c64583b7d20f720d95-None': None}, $$ID-9f1d11e5bdf39939c0b2745a65acbfe9-None: None, llm_name: 'gpt-4o', $$ID-14a3ec47ec95214e4ab389cf9008e65e-feedback_api_key: 'bl'},\n",
       "    _tree={\n",
       "        0: SpecialBlock(\n",
       "            type='main',\n",
       "            children={\n",
       "                0: Title(tag='h1'),\n",
       "                1: Markdown(),\n",
       "                2: UnknownElement(),\n",
       "                3: Info(),\n",
       "                4: Markdown()\n",
       "            }\n",
       "        ),\n",
       "        1: SpecialBlock(\n",
       "            type='sidebar',\n",
       "            children={\n",
       "                0: TextInput(key='feedback_api_key', _value=InitialValue(), label='OpenAI API Key', autocomplete='new-password'),\n",
       "                1: Markdown(),\n",
       "                2: Selectbox(_value=InitialValue(), label='XC-functional', options=['PBE', 'PBEsol']),\n",
       "                3: Selectbox(_value=InitialValue(), label='pseudopotential flavour', options=['efficiency', 'precision']),\n",
       "                4: Selectbox(_value=InitialValue(), label='assistant LLM', options=['gpt-4o', 'gpt-4o-mini', 'gpt-3.5-turbo'])\n",
       "            }\n",
       "        ),\n",
       "        2: SpecialBlock(\n",
       "            type='event'\n",
       "        ),\n",
       "        3: Block(\n",
       "            type='unknown',\n",
       "            children={\n",
       "                0: ChatInput(placeholder='Do you have any questions?')\n",
       "            }\n",
       "        )\n",
       "    }\n",
       ")"
      ]
     },
     "execution_count": 79,
     "metadata": {},
     "output_type": "execute_result"
    }
   ],
   "source": [
    "element_tree.text_input[0].run()"
   ]
  },
  {
   "cell_type": "code",
   "execution_count": 72,
   "id": "265ce0ba",
   "metadata": {},
   "outputs": [
    {
     "data": {
      "text/plain": [
       "'bl'"
      ]
     },
     "execution_count": 72,
     "metadata": {},
     "output_type": "execute_result"
    }
   ],
   "source": [
    "element_tree.text_input[0]._value"
   ]
  },
  {
   "cell_type": "code",
   "execution_count": 64,
   "id": "1785309e",
   "metadata": {},
   "outputs": [
    {
     "data": {
      "text/plain": [
       "1"
      ]
     },
     "execution_count": 64,
     "metadata": {},
     "output_type": "execute_result"
    }
   ],
   "source": [
    "len(element_tree.text_input)"
   ]
  },
  {
   "cell_type": "code",
   "execution_count": null,
   "id": "91a33ce8",
   "metadata": {},
   "outputs": [],
   "source": []
  }
 ],
 "metadata": {
  "kernelspec": {
   "display_name": "Python 3 (ipykernel)",
   "language": "python",
   "name": "python3"
  },
  "language_info": {
   "codemirror_mode": {
    "name": "ipython",
    "version": 3
   },
   "file_extension": ".py",
   "mimetype": "text/x-python",
   "name": "python",
   "nbconvert_exporter": "python",
   "pygments_lexer": "ipython3",
   "version": "3.12.7"
  }
 },
 "nbformat": 4,
 "nbformat_minor": 5
}
